{
  "nbformat": 4,
  "nbformat_minor": 0,
  "metadata": {
    "colab": {
      "provenance": [],
      "authorship_tag": "ABX9TyNyYEjark5zZslGVREZcy3e",
      "include_colab_link": true
    },
    "kernelspec": {
      "name": "python3",
      "display_name": "Python 3"
    },
    "language_info": {
      "name": "python"
    }
  },
  "cells": [
    {
      "cell_type": "markdown",
      "metadata": {
        "id": "view-in-github",
        "colab_type": "text"
      },
      "source": [
        "<a href=\"https://colab.research.google.com/github/KidCon/diffusers_ss/blob/main/convert_weights_to_ckpt.ipynb\" target=\"_parent\"><img src=\"https://colab.research.google.com/assets/colab-badge.svg\" alt=\"Open In Colab\"/></a>"
      ]
    },
    {
      "cell_type": "code",
      "source": [
        "from google.colab import drive\n",
        "drive.mount('/content/gdrive')"
      ],
      "metadata": {
        "colab": {
          "base_uri": "https://localhost:8080/"
        },
        "id": "RhpDY5U6zLJq",
        "outputId": "56cd6ca1-c366-4a48-e17f-0492e83c901f"
      },
      "execution_count": null,
      "outputs": [
        {
          "output_type": "stream",
          "name": "stdout",
          "text": [
            "Drive already mounted at /content/gdrive; to attempt to forcibly remount, call drive.mount(\"/content/gdrive\", force_remount=True).\n"
          ]
        }
      ]
    },
    {
      "cell_type": "code",
      "source": [
        "!wget -q https://github.com/ShivamShrirao/diffusers/raw/main/scripts/convert_diffusers_to_original_stable_diffusion.py"
      ],
      "metadata": {
        "id": "utzAscqH2dVw"
      },
      "execution_count": null,
      "outputs": []
    },
    {
      "cell_type": "code",
      "source": [
        "import glob\n",
        "import os\n"
      ],
      "metadata": {
        "id": "nTdlIQE-zwwu"
      },
      "execution_count": null,
      "outputs": []
    },
    {
      "cell_type": "code",
      "source": [
        "# parent_weights_folder = 'donka_dkz_1000_reg'\n",
        "# parent_weights_directory = 'ezk_rees3'\n",
        "# parent_weights_folder = 'ezk_rees_again'\n",
        "parent_weights_folder = 'sd2/dkz_customreg'\n",
        "\n",
        "weights_directory = f'/content/gdrive/MyDrive/stable_diffusion_weights/{parent_weights_folder}'\n",
        "\n",
        "os.listdir(f'{weights_directory}')"
      ],
      "metadata": {
        "colab": {
          "base_uri": "https://localhost:8080/"
        },
        "id": "xwgkPtSe0lGa",
        "outputId": "50ba1945-ed04-4d71-f816-c606c88bceb3"
      },
      "execution_count": null,
      "outputs": [
        {
          "output_type": "execute_result",
          "data": {
            "text/plain": [
              "['0', '1000', '2000', '3000', '4000', '5000', '6000']"
            ]
          },
          "metadata": {},
          "execution_count": 7
        }
      ]
    },
    {
      "cell_type": "code",
      "source": [
        "directories = glob.glob(weights_directory + '/*')\n",
        "directories"
      ],
      "metadata": {
        "colab": {
          "base_uri": "https://localhost:8080/"
        },
        "id": "VX9rQl1UCTFg",
        "outputId": "c5dc3be0-fde8-43bd-c602-b7e7cc5b84b9"
      },
      "execution_count": null,
      "outputs": [
        {
          "output_type": "execute_result",
          "data": {
            "text/plain": [
              "['/content/gdrive/MyDrive/stable_diffusion_weights/sd2/dkz_customreg/0',\n",
              " '/content/gdrive/MyDrive/stable_diffusion_weights/sd2/dkz_customreg/1000',\n",
              " '/content/gdrive/MyDrive/stable_diffusion_weights/sd2/dkz_customreg/2000',\n",
              " '/content/gdrive/MyDrive/stable_diffusion_weights/sd2/dkz_customreg/3000',\n",
              " '/content/gdrive/MyDrive/stable_diffusion_weights/sd2/dkz_customreg/4000',\n",
              " '/content/gdrive/MyDrive/stable_diffusion_weights/sd2/dkz_customreg/5000',\n",
              " '/content/gdrive/MyDrive/stable_diffusion_weights/sd2/dkz_customreg/6000']"
            ]
          },
          "metadata": {},
          "execution_count": 8
        }
      ]
    },
    {
      "cell_type": "code",
      "source": [
        "directories_to_convert = [x for x in directories if (int(x.split('/')[-1]) >= 1999 and int(x.split('/')[-1]) <= 5001)]\n",
        "directories_to_convert"
      ],
      "metadata": {
        "colab": {
          "base_uri": "https://localhost:8080/"
        },
        "id": "XMICMGMeCyCn",
        "outputId": "6505fef5-57aa-467e-c5ec-77c301b2ab1e"
      },
      "execution_count": null,
      "outputs": [
        {
          "output_type": "execute_result",
          "data": {
            "text/plain": [
              "['/content/gdrive/MyDrive/stable_diffusion_weights/sd2/dkz_customreg/2000',\n",
              " '/content/gdrive/MyDrive/stable_diffusion_weights/sd2/dkz_customreg/3000',\n",
              " '/content/gdrive/MyDrive/stable_diffusion_weights/sd2/dkz_customreg/4000',\n",
              " '/content/gdrive/MyDrive/stable_diffusion_weights/sd2/dkz_customreg/5000']"
            ]
          },
          "metadata": {},
          "execution_count": 9
        }
      ]
    },
    {
      "cell_type": "code",
      "source": [
        "# OUTPUT_DIR = \"stable_diffusion_weights/ezk_rees3\" #@param {type:\"string\"}\n"
      ],
      "metadata": {
        "id": "EA5WN5J5zyNG"
      },
      "execution_count": null,
      "outputs": []
    },
    {
      "cell_type": "code",
      "source": [
        "# # The directory to the full folder with weights\n",
        "# WEIGHTS_DIR = \"\" \n",
        "# if WEIGHTS_DIR == \"\":\n",
        "#     from natsort import natsorted\n",
        "#     from glob import glob\n",
        "#     import os\n",
        "#     WEIGHTS_DIR = natsorted(glob(OUTPUT_DIR + os.sep + \"*\"))[-1]\n",
        "# print(f\"[*] WEIGHTS_DIR={WEIGHTS_DIR}\")"
      ],
      "metadata": {
        "id": "F31B8aHBzD_d"
      },
      "execution_count": null,
      "outputs": []
    },
    {
      "cell_type": "code",
      "source": [
        "print(directories)"
      ],
      "metadata": {
        "id": "DSDQ_ympD8CW",
        "colab": {
          "base_uri": "https://localhost:8080/"
        },
        "outputId": "3748ad09-4c33-4937-a00a-7561a3f62354"
      },
      "execution_count": null,
      "outputs": [
        {
          "output_type": "stream",
          "name": "stdout",
          "text": [
            "['/content/gdrive/MyDrive/stable_diffusion_weights/sd2/dkz_customreg/0', '/content/gdrive/MyDrive/stable_diffusion_weights/sd2/dkz_customreg/1000', '/content/gdrive/MyDrive/stable_diffusion_weights/sd2/dkz_customreg/2000', '/content/gdrive/MyDrive/stable_diffusion_weights/sd2/dkz_customreg/3000', '/content/gdrive/MyDrive/stable_diffusion_weights/sd2/dkz_customreg/4000', '/content/gdrive/MyDrive/stable_diffusion_weights/sd2/dkz_customreg/5000', '/content/gdrive/MyDrive/stable_diffusion_weights/sd2/dkz_customreg/6000']\n"
          ]
        }
      ]
    },
    {
      "cell_type": "code",
      "execution_count": null,
      "metadata": {
        "colab": {
          "base_uri": "https://localhost:8080/"
        },
        "id": "kT91wN4Hy5Uq",
        "outputId": "9203f6fc-339d-4d0e-b6c3-3a75ee9067a0"
      },
      "outputs": [
        {
          "output_type": "stream",
          "name": "stdout",
          "text": [
            "Reshaping encoder.mid.attn_1.q.weight for SD format\n",
            "Reshaping encoder.mid.attn_1.k.weight for SD format\n",
            "Reshaping encoder.mid.attn_1.v.weight for SD format\n",
            "Reshaping encoder.mid.attn_1.proj_out.weight for SD format\n",
            "Reshaping decoder.mid.attn_1.q.weight for SD format\n",
            "Reshaping decoder.mid.attn_1.k.weight for SD format\n",
            "Reshaping decoder.mid.attn_1.v.weight for SD format\n",
            "Reshaping decoder.mid.attn_1.proj_out.weight for SD format\n",
            "[*] Converted ckpt saved at /content/gdrive/MyDrive/stable_diffusion_weights/sd2/dkz_customreg/2000/model.ckpt\n",
            "Reshaping encoder.mid.attn_1.q.weight for SD format\n",
            "Reshaping encoder.mid.attn_1.k.weight for SD format\n",
            "Reshaping encoder.mid.attn_1.v.weight for SD format\n",
            "Reshaping encoder.mid.attn_1.proj_out.weight for SD format\n",
            "Reshaping decoder.mid.attn_1.q.weight for SD format\n",
            "Reshaping decoder.mid.attn_1.k.weight for SD format\n",
            "Reshaping decoder.mid.attn_1.v.weight for SD format\n",
            "Reshaping decoder.mid.attn_1.proj_out.weight for SD format\n",
            "[*] Converted ckpt saved at /content/gdrive/MyDrive/stable_diffusion_weights/sd2/dkz_customreg/3000/model.ckpt\n",
            "Reshaping encoder.mid.attn_1.q.weight for SD format\n",
            "Reshaping encoder.mid.attn_1.k.weight for SD format\n",
            "Reshaping encoder.mid.attn_1.v.weight for SD format\n",
            "Reshaping encoder.mid.attn_1.proj_out.weight for SD format\n",
            "Reshaping decoder.mid.attn_1.q.weight for SD format\n",
            "Reshaping decoder.mid.attn_1.k.weight for SD format\n",
            "Reshaping decoder.mid.attn_1.v.weight for SD format\n",
            "Reshaping decoder.mid.attn_1.proj_out.weight for SD format\n",
            "[*] Converted ckpt saved at /content/gdrive/MyDrive/stable_diffusion_weights/sd2/dkz_customreg/4000/model.ckpt\n",
            "Reshaping encoder.mid.attn_1.q.weight for SD format\n",
            "Reshaping encoder.mid.attn_1.k.weight for SD format\n",
            "Reshaping encoder.mid.attn_1.v.weight for SD format\n",
            "Reshaping encoder.mid.attn_1.proj_out.weight for SD format\n",
            "Reshaping decoder.mid.attn_1.q.weight for SD format\n",
            "Reshaping decoder.mid.attn_1.k.weight for SD format\n",
            "Reshaping decoder.mid.attn_1.v.weight for SD format\n",
            "Reshaping decoder.mid.attn_1.proj_out.weight for SD format\n",
            "[*] Converted ckpt saved at /content/gdrive/MyDrive/stable_diffusion_weights/sd2/dkz_customreg/5000/model.ckpt\n"
          ]
        }
      ],
      "source": [
        "for WEIGHTS_DIR in directories_to_convert:\n",
        "  #@markdown Run conversion.\n",
        "  ckpt_path = WEIGHTS_DIR + \"/model.ckpt\"\n",
        "\n",
        "  half_arg = \"\"\n",
        "  #@markdown  Whether to convert to fp16, takes half the space (2GB).\n",
        "  fp16 = True #@param {type: \"boolean\"}\n",
        "  if fp16:\n",
        "      half_arg = \"--half\"\n",
        "  !python convert_diffusers_to_original_stable_diffusion.py --model_path $WEIGHTS_DIR  --checkpoint_path $ckpt_path $half_arg\n",
        "  print(f\"[*] Converted ckpt saved at {ckpt_path}\")"
      ]
    },
    {
      "cell_type": "code",
      "source": [],
      "metadata": {
        "id": "N7lJfjMI2lVJ"
      },
      "execution_count": null,
      "outputs": []
    }
  ]
}