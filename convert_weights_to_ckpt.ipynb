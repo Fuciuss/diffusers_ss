{
  "nbformat": 4,
  "nbformat_minor": 0,
  "metadata": {
    "colab": {
      "provenance": [],
      "authorship_tag": "ABX9TyOHOxdWqs00nrNdF8WG7hXr",
      "include_colab_link": true
    },
    "kernelspec": {
      "name": "python3",
      "display_name": "Python 3"
    },
    "language_info": {
      "name": "python"
    }
  },
  "cells": [
    {
      "cell_type": "markdown",
      "metadata": {
        "id": "view-in-github",
        "colab_type": "text"
      },
      "source": [
        "<a href=\"https://colab.research.google.com/github/KidCon/diffusers_ss/blob/main/convert_weights_to_ckpt.ipynb\" target=\"_parent\"><img src=\"https://colab.research.google.com/assets/colab-badge.svg\" alt=\"Open In Colab\"/></a>"
      ]
    },
    {
      "cell_type": "code",
      "source": [
        "from google.colab import drive\n",
        "drive.mount('/content/gdrive')"
      ],
      "metadata": {
        "colab": {
          "base_uri": "https://localhost:8080/"
        },
        "id": "RhpDY5U6zLJq",
        "outputId": "c8280615-94a5-4ad6-b3ec-ee1662aba31e"
      },
      "execution_count": 44,
      "outputs": [
        {
          "output_type": "stream",
          "name": "stdout",
          "text": [
            "Drive already mounted at /content/gdrive; to attempt to forcibly remount, call drive.mount(\"/content/gdrive\", force_remount=True).\n"
          ]
        }
      ]
    },
    {
      "cell_type": "code",
      "source": [
        "!wget -q https://github.com/ShivamShrirao/diffusers/raw/main/scripts/convert_diffusers_to_original_stable_diffusion.py"
      ],
      "metadata": {
        "id": "utzAscqH2dVw"
      },
      "execution_count": 45,
      "outputs": []
    },
    {
      "cell_type": "code",
      "source": [
        "import glob\n",
        "import os\n"
      ],
      "metadata": {
        "id": "nTdlIQE-zwwu"
      },
      "execution_count": 46,
      "outputs": []
    },
    {
      "cell_type": "code",
      "source": [
        "# parent_weights_folder = 'donka_dkz_1000_reg'\n",
        "# parent_weights_directory = 'ezk_rees3'\n",
        "# parent_weights_folder = 'ezk_rees_again'\n",
        "parent_weights_folder = 'live_subjects/clczm5uqw000408jy4to5eg4s'\n",
        "\n",
        "weights_directory = f'/content/gdrive/MyDrive/stable_diffusion_weights/{parent_weights_folder}'\n",
        "\n",
        "os.listdir(f'{weights_directory}')"
      ],
      "metadata": {
        "colab": {
          "base_uri": "https://localhost:8080/"
        },
        "id": "xwgkPtSe0lGa",
        "outputId": "c74ec684-36f7-4d33-9a20-32b69ad04628"
      },
      "execution_count": 47,
      "outputs": [
        {
          "output_type": "execute_result",
          "data": {
            "text/plain": [
              "['0', '2000', '2700', '3000', '4000', '5000', '6000', '7000']"
            ]
          },
          "metadata": {},
          "execution_count": 47
        }
      ]
    },
    {
      "cell_type": "code",
      "source": [
        "directories = glob.glob(weights_directory + '/*')\n",
        "directories"
      ],
      "metadata": {
        "colab": {
          "base_uri": "https://localhost:8080/"
        },
        "id": "VX9rQl1UCTFg",
        "outputId": "d094c344-0513-4cfd-c5d2-903452e7dee3"
      },
      "execution_count": 48,
      "outputs": [
        {
          "output_type": "execute_result",
          "data": {
            "text/plain": [
              "['/content/gdrive/MyDrive/stable_diffusion_weights/live_subjects/clczm5uqw000408jy4to5eg4s/0',\n",
              " '/content/gdrive/MyDrive/stable_diffusion_weights/live_subjects/clczm5uqw000408jy4to5eg4s/2000',\n",
              " '/content/gdrive/MyDrive/stable_diffusion_weights/live_subjects/clczm5uqw000408jy4to5eg4s/2700',\n",
              " '/content/gdrive/MyDrive/stable_diffusion_weights/live_subjects/clczm5uqw000408jy4to5eg4s/3000',\n",
              " '/content/gdrive/MyDrive/stable_diffusion_weights/live_subjects/clczm5uqw000408jy4to5eg4s/4000',\n",
              " '/content/gdrive/MyDrive/stable_diffusion_weights/live_subjects/clczm5uqw000408jy4to5eg4s/5000',\n",
              " '/content/gdrive/MyDrive/stable_diffusion_weights/live_subjects/clczm5uqw000408jy4to5eg4s/6000',\n",
              " '/content/gdrive/MyDrive/stable_diffusion_weights/live_subjects/clczm5uqw000408jy4to5eg4s/7000']"
            ]
          },
          "metadata": {},
          "execution_count": 48
        }
      ]
    },
    {
      "cell_type": "code",
      "source": [
        "directories_to_convert = [x for x in directories if (int(x.split('/')[-1]) >= 1999 and int(x.split('/')[-1]) <= 3001)]\n",
        "directories_to_convert"
      ],
      "metadata": {
        "colab": {
          "base_uri": "https://localhost:8080/"
        },
        "id": "XMICMGMeCyCn",
        "outputId": "71a49552-726d-433b-8f0a-f59af7b45574"
      },
      "execution_count": 49,
      "outputs": [
        {
          "output_type": "execute_result",
          "data": {
            "text/plain": [
              "['/content/gdrive/MyDrive/stable_diffusion_weights/live_subjects/clczm5uqw000408jy4to5eg4s/2000',\n",
              " '/content/gdrive/MyDrive/stable_diffusion_weights/live_subjects/clczm5uqw000408jy4to5eg4s/2700',\n",
              " '/content/gdrive/MyDrive/stable_diffusion_weights/live_subjects/clczm5uqw000408jy4to5eg4s/3000',\n",
              " '/content/gdrive/MyDrive/stable_diffusion_weights/live_subjects/clczm5uqw000408jy4to5eg4s/4000',\n",
              " '/content/gdrive/MyDrive/stable_diffusion_weights/live_subjects/clczm5uqw000408jy4to5eg4s/5000']"
            ]
          },
          "metadata": {},
          "execution_count": 49
        }
      ]
    },
    {
      "cell_type": "code",
      "source": [
        "# OUTPUT_DIR = \"stable_diffusion_weights/ezk_rees3\" #@param {type:\"string\"}\n"
      ],
      "metadata": {
        "id": "EA5WN5J5zyNG"
      },
      "execution_count": 50,
      "outputs": []
    },
    {
      "cell_type": "code",
      "source": [
        "# # The directory to the full folder with weights\n",
        "# WEIGHTS_DIR = \"\" \n",
        "# if WEIGHTS_DIR == \"\":\n",
        "#     from natsort import natsorted\n",
        "#     from glob import glob\n",
        "#     import os\n",
        "#     WEIGHTS_DIR = natsorted(glob(OUTPUT_DIR + os.sep + \"*\"))[-1]\n",
        "# print(f\"[*] WEIGHTS_DIR={WEIGHTS_DIR}\")"
      ],
      "metadata": {
        "id": "F31B8aHBzD_d"
      },
      "execution_count": 51,
      "outputs": []
    },
    {
      "cell_type": "code",
      "source": [
        "print(directories)"
      ],
      "metadata": {
        "id": "DSDQ_ympD8CW",
        "colab": {
          "base_uri": "https://localhost:8080/"
        },
        "outputId": "4c3bf6ac-7c37-4079-c334-1dbfdb168cba"
      },
      "execution_count": 52,
      "outputs": [
        {
          "output_type": "stream",
          "name": "stdout",
          "text": [
            "['/content/gdrive/MyDrive/stable_diffusion_weights/live_subjects/clczm5uqw000408jy4to5eg4s/0', '/content/gdrive/MyDrive/stable_diffusion_weights/live_subjects/clczm5uqw000408jy4to5eg4s/2000', '/content/gdrive/MyDrive/stable_diffusion_weights/live_subjects/clczm5uqw000408jy4to5eg4s/2700', '/content/gdrive/MyDrive/stable_diffusion_weights/live_subjects/clczm5uqw000408jy4to5eg4s/3000', '/content/gdrive/MyDrive/stable_diffusion_weights/live_subjects/clczm5uqw000408jy4to5eg4s/4000', '/content/gdrive/MyDrive/stable_diffusion_weights/live_subjects/clczm5uqw000408jy4to5eg4s/5000', '/content/gdrive/MyDrive/stable_diffusion_weights/live_subjects/clczm5uqw000408jy4to5eg4s/6000', '/content/gdrive/MyDrive/stable_diffusion_weights/live_subjects/clczm5uqw000408jy4to5eg4s/7000']\n"
          ]
        }
      ]
    },
    {
      "cell_type": "code",
      "source": [
        "directories_to_convert"
      ],
      "metadata": {
        "colab": {
          "base_uri": "https://localhost:8080/"
        },
        "id": "Qkm78qfiOZRP",
        "outputId": "430c5212-6dc0-4e1b-c2bc-ea37f44d3e54"
      },
      "execution_count": 53,
      "outputs": [
        {
          "output_type": "execute_result",
          "data": {
            "text/plain": [
              "['/content/gdrive/MyDrive/stable_diffusion_weights/live_subjects/clczm5uqw000408jy4to5eg4s/2000',\n",
              " '/content/gdrive/MyDrive/stable_diffusion_weights/live_subjects/clczm5uqw000408jy4to5eg4s/2700',\n",
              " '/content/gdrive/MyDrive/stable_diffusion_weights/live_subjects/clczm5uqw000408jy4to5eg4s/3000',\n",
              " '/content/gdrive/MyDrive/stable_diffusion_weights/live_subjects/clczm5uqw000408jy4to5eg4s/4000',\n",
              " '/content/gdrive/MyDrive/stable_diffusion_weights/live_subjects/clczm5uqw000408jy4to5eg4s/5000']"
            ]
          },
          "metadata": {},
          "execution_count": 53
        }
      ]
    },
    {
      "cell_type": "code",
      "execution_count": null,
      "metadata": {
        "id": "kT91wN4Hy5Uq",
        "colab": {
          "base_uri": "https://localhost:8080/"
        },
        "outputId": "518f9e0e-6937-407b-b0e1-2935d2b622f2"
      },
      "outputs": [
        {
          "output_type": "stream",
          "name": "stdout",
          "text": [
            "Reshaping encoder.mid.attn_1.q.weight for SD format\n",
            "Reshaping encoder.mid.attn_1.k.weight for SD format\n",
            "Reshaping encoder.mid.attn_1.v.weight for SD format\n",
            "Reshaping encoder.mid.attn_1.proj_out.weight for SD format\n",
            "Reshaping decoder.mid.attn_1.q.weight for SD format\n",
            "Reshaping decoder.mid.attn_1.k.weight for SD format\n",
            "Reshaping decoder.mid.attn_1.v.weight for SD format\n",
            "Reshaping decoder.mid.attn_1.proj_out.weight for SD format\n",
            "[*] Converted ckpt saved at /content/gdrive/MyDrive/stable_diffusion_weights/live_subjects/clczm5uqw000408jy4to5eg4s/ckpt_files/clczm5uqw000408jy4to5eg4s_2000.ckpt\n",
            "Reshaping encoder.mid.attn_1.q.weight for SD format\n",
            "Reshaping encoder.mid.attn_1.k.weight for SD format\n",
            "Reshaping encoder.mid.attn_1.v.weight for SD format\n",
            "Reshaping encoder.mid.attn_1.proj_out.weight for SD format\n",
            "Reshaping decoder.mid.attn_1.q.weight for SD format\n",
            "Reshaping decoder.mid.attn_1.k.weight for SD format\n",
            "Reshaping decoder.mid.attn_1.v.weight for SD format\n",
            "Reshaping decoder.mid.attn_1.proj_out.weight for SD format\n",
            "[*] Converted ckpt saved at /content/gdrive/MyDrive/stable_diffusion_weights/live_subjects/clczm5uqw000408jy4to5eg4s/ckpt_files/clczm5uqw000408jy4to5eg4s_2700.ckpt\n",
            "Reshaping encoder.mid.attn_1.q.weight for SD format\n",
            "Reshaping encoder.mid.attn_1.k.weight for SD format\n",
            "Reshaping encoder.mid.attn_1.v.weight for SD format\n",
            "Reshaping encoder.mid.attn_1.proj_out.weight for SD format\n",
            "Reshaping decoder.mid.attn_1.q.weight for SD format\n",
            "Reshaping decoder.mid.attn_1.k.weight for SD format\n",
            "Reshaping decoder.mid.attn_1.v.weight for SD format\n",
            "Reshaping decoder.mid.attn_1.proj_out.weight for SD format\n",
            "[*] Converted ckpt saved at /content/gdrive/MyDrive/stable_diffusion_weights/live_subjects/clczm5uqw000408jy4to5eg4s/ckpt_files/clczm5uqw000408jy4to5eg4s_3000.ckpt\n"
          ]
        }
      ],
      "source": [
        "for WEIGHTS_DIR in directories_to_convert:\n",
        "  #@markdown Run conversion.\n",
        "  # ckpt_path = WEIGHTS_DIR + \"/model.ckpt\"\n",
        "  model_name = f\"{WEIGHTS_DIR.split('/')[-2]}_{WEIGHTS_DIR.split('/')[-1]}.ckpt\"\n",
        "  folder = f\"{'/'.join(WEIGHTS_DIR.split('/')[:-1])}/ckpt_files/\"\n",
        "  os.makedirs(folder, exist_ok=True)\n",
        "  \n",
        "  ckpt_path = os.path.join(folder, model_name)\n",
        "  # print(ckpt_path)\n",
        "\n",
        "  half_arg = \"\"\n",
        "  #@markdown  Whether to convert to fp16, takes half the space (2GB).\n",
        "  fp16 = True #@param {type: \"boolean\"}\n",
        "  if fp16:\n",
        "      half_arg = \"--half\"\n",
        "  !python convert_diffusers_to_original_stable_diffusion.py --model_path $WEIGHTS_DIR  --checkpoint_path $ckpt_path $half_arg\n",
        "  print(f\"[*] Converted ckpt saved at {ckpt_path}\")"
      ]
    },
    {
      "cell_type": "code",
      "source": [],
      "metadata": {
        "id": "N7lJfjMI2lVJ"
      },
      "execution_count": null,
      "outputs": []
    }
  ]
}