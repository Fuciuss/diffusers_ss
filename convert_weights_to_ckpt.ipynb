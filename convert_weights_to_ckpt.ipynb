{
  "nbformat": 4,
  "nbformat_minor": 0,
  "metadata": {
    "colab": {
      "provenance": [],
      "authorship_tag": "ABX9TyMS3ZWQ2WbgBYwmLOS9fC9o",
      "include_colab_link": true
    },
    "kernelspec": {
      "name": "python3",
      "display_name": "Python 3"
    },
    "language_info": {
      "name": "python"
    }
  },
  "cells": [
    {
      "cell_type": "markdown",
      "metadata": {
        "id": "view-in-github",
        "colab_type": "text"
      },
      "source": [
        "<a href=\"https://colab.research.google.com/github/KidCon/diffusers_ss/blob/main/convert_weights_to_ckpt.ipynb\" target=\"_parent\"><img src=\"https://colab.research.google.com/assets/colab-badge.svg\" alt=\"Open In Colab\"/></a>"
      ]
    },
    {
      "cell_type": "code",
      "source": [
        "from google.colab import drive\n",
        "drive.mount('/content/gdrive')"
      ],
      "metadata": {
        "colab": {
          "base_uri": "https://localhost:8080/"
        },
        "id": "RhpDY5U6zLJq",
        "outputId": "f9266f4c-5b9e-456c-e62f-53f2fd2b9214"
      },
      "execution_count": 1,
      "outputs": [
        {
          "output_type": "stream",
          "name": "stdout",
          "text": [
            "Mounted at /content/gdrive\n"
          ]
        }
      ]
    },
    {
      "cell_type": "code",
      "source": [
        "!wget -q https://github.com/ShivamShrirao/diffusers/raw/main/scripts/convert_diffusers_to_original_stable_diffusion.py"
      ],
      "metadata": {
        "id": "utzAscqH2dVw"
      },
      "execution_count": 2,
      "outputs": []
    },
    {
      "cell_type": "code",
      "source": [
        "import glob\n",
        "import os\n"
      ],
      "metadata": {
        "id": "nTdlIQE-zwwu"
      },
      "execution_count": 3,
      "outputs": []
    },
    {
      "cell_type": "code",
      "source": [
        "# parent_weights_folder = 'donka_dkz_1000_reg'\n",
        "# parent_weights_directory = 'ezk_rees3'\n",
        "# parent_weights_folder = 'ezk_rees_again'\n",
        "parent_weights_folder = 'live_subjects/clcys850g000008la7xil5aas'\n",
        "\n",
        "weights_directory = f'/content/gdrive/MyDrive/stable_diffusion_weights/{parent_weights_folder}'\n",
        "\n",
        "os.listdir(f'{weights_directory}')"
      ],
      "metadata": {
        "colab": {
          "base_uri": "https://localhost:8080/"
        },
        "id": "xwgkPtSe0lGa",
        "outputId": "499be311-dc22-41dc-c339-119f60af1cd6"
      },
      "execution_count": 7,
      "outputs": [
        {
          "output_type": "execute_result",
          "data": {
            "text/plain": [
              "['0', '2000', '3000', '4000', '5000']"
            ]
          },
          "metadata": {},
          "execution_count": 7
        }
      ]
    },
    {
      "cell_type": "code",
      "source": [
        "directories = glob.glob(weights_directory + '/*')\n",
        "directories"
      ],
      "metadata": {
        "colab": {
          "base_uri": "https://localhost:8080/"
        },
        "id": "VX9rQl1UCTFg",
        "outputId": "3fa04363-903c-4340-83df-a861265b844b"
      },
      "execution_count": 8,
      "outputs": [
        {
          "output_type": "execute_result",
          "data": {
            "text/plain": [
              "['/content/gdrive/MyDrive/stable_diffusion_weights/live_subjects/clcys850g000008la7xil5aas/0',\n",
              " '/content/gdrive/MyDrive/stable_diffusion_weights/live_subjects/clcys850g000008la7xil5aas/2000',\n",
              " '/content/gdrive/MyDrive/stable_diffusion_weights/live_subjects/clcys850g000008la7xil5aas/3000',\n",
              " '/content/gdrive/MyDrive/stable_diffusion_weights/live_subjects/clcys850g000008la7xil5aas/4000',\n",
              " '/content/gdrive/MyDrive/stable_diffusion_weights/live_subjects/clcys850g000008la7xil5aas/5000']"
            ]
          },
          "metadata": {},
          "execution_count": 8
        }
      ]
    },
    {
      "cell_type": "code",
      "source": [
        "directories_to_convert = [x for x in directories if (int(x.split('/')[-1]) >= 1999 and int(x.split('/')[-1]) <= 5001)]\n",
        "directories_to_convert"
      ],
      "metadata": {
        "colab": {
          "base_uri": "https://localhost:8080/"
        },
        "id": "XMICMGMeCyCn",
        "outputId": "b49d68de-48a2-4e20-8e4b-4910c0326099"
      },
      "execution_count": 9,
      "outputs": [
        {
          "output_type": "execute_result",
          "data": {
            "text/plain": [
              "['/content/gdrive/MyDrive/stable_diffusion_weights/live_subjects/clcys850g000008la7xil5aas/2000',\n",
              " '/content/gdrive/MyDrive/stable_diffusion_weights/live_subjects/clcys850g000008la7xil5aas/3000',\n",
              " '/content/gdrive/MyDrive/stable_diffusion_weights/live_subjects/clcys850g000008la7xil5aas/4000',\n",
              " '/content/gdrive/MyDrive/stable_diffusion_weights/live_subjects/clcys850g000008la7xil5aas/5000']"
            ]
          },
          "metadata": {},
          "execution_count": 9
        }
      ]
    },
    {
      "cell_type": "code",
      "source": [
        "# OUTPUT_DIR = \"stable_diffusion_weights/ezk_rees3\" #@param {type:\"string\"}\n"
      ],
      "metadata": {
        "id": "EA5WN5J5zyNG"
      },
      "execution_count": 10,
      "outputs": []
    },
    {
      "cell_type": "code",
      "source": [
        "# # The directory to the full folder with weights\n",
        "# WEIGHTS_DIR = \"\" \n",
        "# if WEIGHTS_DIR == \"\":\n",
        "#     from natsort import natsorted\n",
        "#     from glob import glob\n",
        "#     import os\n",
        "#     WEIGHTS_DIR = natsorted(glob(OUTPUT_DIR + os.sep + \"*\"))[-1]\n",
        "# print(f\"[*] WEIGHTS_DIR={WEIGHTS_DIR}\")"
      ],
      "metadata": {
        "id": "F31B8aHBzD_d"
      },
      "execution_count": 11,
      "outputs": []
    },
    {
      "cell_type": "code",
      "source": [
        "print(directories)"
      ],
      "metadata": {
        "id": "DSDQ_ympD8CW",
        "colab": {
          "base_uri": "https://localhost:8080/"
        },
        "outputId": "d8c0b4bc-d465-4137-c020-096275de0baf"
      },
      "execution_count": 12,
      "outputs": [
        {
          "output_type": "stream",
          "name": "stdout",
          "text": [
            "['/content/gdrive/MyDrive/stable_diffusion_weights/live_subjects/clcys850g000008la7xil5aas/0', '/content/gdrive/MyDrive/stable_diffusion_weights/live_subjects/clcys850g000008la7xil5aas/2000', '/content/gdrive/MyDrive/stable_diffusion_weights/live_subjects/clcys850g000008la7xil5aas/3000', '/content/gdrive/MyDrive/stable_diffusion_weights/live_subjects/clcys850g000008la7xil5aas/4000', '/content/gdrive/MyDrive/stable_diffusion_weights/live_subjects/clcys850g000008la7xil5aas/5000']\n"
          ]
        }
      ]
    },
    {
      "cell_type": "code",
      "source": [
        "directories_to_convert"
      ],
      "metadata": {
        "colab": {
          "base_uri": "https://localhost:8080/"
        },
        "id": "Qkm78qfiOZRP",
        "outputId": "e274d42b-e907-428c-f893-0734596ff37b"
      },
      "execution_count": 13,
      "outputs": [
        {
          "output_type": "execute_result",
          "data": {
            "text/plain": [
              "['/content/gdrive/MyDrive/stable_diffusion_weights/live_subjects/clcys850g000008la7xil5aas/2000',\n",
              " '/content/gdrive/MyDrive/stable_diffusion_weights/live_subjects/clcys850g000008la7xil5aas/3000',\n",
              " '/content/gdrive/MyDrive/stable_diffusion_weights/live_subjects/clcys850g000008la7xil5aas/4000',\n",
              " '/content/gdrive/MyDrive/stable_diffusion_weights/live_subjects/clcys850g000008la7xil5aas/5000']"
            ]
          },
          "metadata": {},
          "execution_count": 13
        }
      ]
    },
    {
      "cell_type": "code",
      "execution_count": null,
      "metadata": {
        "id": "kT91wN4Hy5Uq"
      },
      "outputs": [],
      "source": [
        "for WEIGHTS_DIR in directories_to_convert:\n",
        "  #@markdown Run conversion.\n",
        "  # ckpt_path = WEIGHTS_DIR + \"/model.ckpt\"\n",
        "  model_name = f\"{WEIGHTS_DIR.split('/')[-2]}_{WEIGHTS_DIR.split('/')[-1]}.ckpt\"\n",
        "  folder = f\"{'/'.join(WEIGHTS_DIR.split('/')[:-1])}/ckpt_files/\"\n",
        "  os.makedirs(folder, exist_ok=True)\n",
        "  \n",
        "  ckpt_path = os.path.join(folder, model_name)\n",
        "  # print(ckpt_path)\n",
        "\n",
        "  half_arg = \"\"\n",
        "  #@markdown  Whether to convert to fp16, takes half the space (2GB).\n",
        "  fp16 = True #@param {type: \"boolean\"}\n",
        "  if fp16:\n",
        "      half_arg = \"--half\"\n",
        "  !python convert_diffusers_to_original_stable_diffusion.py --model_path $WEIGHTS_DIR  --checkpoint_path $ckpt_path $half_arg\n",
        "  print(f\"[*] Converted ckpt saved at {ckpt_path}\")"
      ]
    },
    {
      "cell_type": "code",
      "source": [],
      "metadata": {
        "id": "N7lJfjMI2lVJ"
      },
      "execution_count": null,
      "outputs": []
    }
  ]
}