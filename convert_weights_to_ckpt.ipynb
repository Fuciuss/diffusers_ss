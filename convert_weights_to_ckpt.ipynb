{
  "nbformat": 4,
  "nbformat_minor": 0,
  "metadata": {
    "colab": {
      "provenance": [],
      "authorship_tag": "ABX9TyOGPbm8vmlSo6CD7J20HF9L",
      "include_colab_link": true
    },
    "kernelspec": {
      "name": "python3",
      "display_name": "Python 3"
    },
    "language_info": {
      "name": "python"
    }
  },
  "cells": [
    {
      "cell_type": "markdown",
      "metadata": {
        "id": "view-in-github",
        "colab_type": "text"
      },
      "source": [
        "<a href=\"https://colab.research.google.com/github/KidCon/diffusers_ss/blob/main/convert_weights_to_ckpt.ipynb\" target=\"_parent\"><img src=\"https://colab.research.google.com/assets/colab-badge.svg\" alt=\"Open In Colab\"/></a>"
      ]
    },
    {
      "cell_type": "code",
      "source": [
        "from google.colab import drive\n",
        "drive.mount('/content/gdrive')"
      ],
      "metadata": {
        "colab": {
          "base_uri": "https://localhost:8080/"
        },
        "id": "RhpDY5U6zLJq",
        "outputId": "0072d5d2-374c-44d3-d4a5-8fdc75b27dd9"
      },
      "execution_count": 1,
      "outputs": [
        {
          "output_type": "stream",
          "name": "stdout",
          "text": [
            "Drive already mounted at /content/gdrive; to attempt to forcibly remount, call drive.mount(\"/content/gdrive\", force_remount=True).\n"
          ]
        }
      ]
    },
    {
      "cell_type": "code",
      "source": [
        "!wget -q https://github.com/ShivamShrirao/diffusers/raw/main/scripts/convert_diffusers_to_original_stable_diffusion.py"
      ],
      "metadata": {
        "id": "utzAscqH2dVw"
      },
      "execution_count": 2,
      "outputs": []
    },
    {
      "cell_type": "code",
      "source": [
        "import glob\n",
        "import os\n"
      ],
      "metadata": {
        "id": "nTdlIQE-zwwu"
      },
      "execution_count": 3,
      "outputs": []
    },
    {
      "cell_type": "code",
      "source": [
        "# parent_weights_folder = 'donka_dkz_1000_reg'\n",
        "# parent_weights_directory = 'ezk_rees3'\n",
        "# parent_weights_folder = 'ezk_rees_again'\n",
        "parent_weights_folder = 'live_subjects/clcytzycz000008mk82wo05v3'\n",
        "\n",
        "weights_directory = f'/content/gdrive/MyDrive/stable_diffusion_weights/{parent_weights_folder}'\n",
        "\n",
        "os.listdir(f'{weights_directory}')"
      ],
      "metadata": {
        "colab": {
          "base_uri": "https://localhost:8080/"
        },
        "id": "xwgkPtSe0lGa",
        "outputId": "063d8df8-6669-4b8c-aff5-430d3745eff0"
      },
      "execution_count": 4,
      "outputs": [
        {
          "output_type": "execute_result",
          "data": {
            "text/plain": [
              "['0', '2000', '3000', '4000', '5000', '6000']"
            ]
          },
          "metadata": {},
          "execution_count": 4
        }
      ]
    },
    {
      "cell_type": "code",
      "source": [
        "directories = glob.glob(weights_directory + '/*')\n",
        "directories"
      ],
      "metadata": {
        "colab": {
          "base_uri": "https://localhost:8080/"
        },
        "id": "VX9rQl1UCTFg",
        "outputId": "fd18da33-0e55-4066-d9cb-db085e0900b2"
      },
      "execution_count": 5,
      "outputs": [
        {
          "output_type": "execute_result",
          "data": {
            "text/plain": [
              "['/content/gdrive/MyDrive/stable_diffusion_weights/live_subjects/clcytzycz000008mk82wo05v3/0',\n",
              " '/content/gdrive/MyDrive/stable_diffusion_weights/live_subjects/clcytzycz000008mk82wo05v3/2000',\n",
              " '/content/gdrive/MyDrive/stable_diffusion_weights/live_subjects/clcytzycz000008mk82wo05v3/3000',\n",
              " '/content/gdrive/MyDrive/stable_diffusion_weights/live_subjects/clcytzycz000008mk82wo05v3/4000',\n",
              " '/content/gdrive/MyDrive/stable_diffusion_weights/live_subjects/clcytzycz000008mk82wo05v3/5000',\n",
              " '/content/gdrive/MyDrive/stable_diffusion_weights/live_subjects/clcytzycz000008mk82wo05v3/6000']"
            ]
          },
          "metadata": {},
          "execution_count": 5
        }
      ]
    },
    {
      "cell_type": "code",
      "source": [
        "directories_to_convert = [x for x in directories if (int(x.split('/')[-1]) >= 1999 and int(x.split('/')[-1]) <= 5001)]\n",
        "directories_to_convert"
      ],
      "metadata": {
        "colab": {
          "base_uri": "https://localhost:8080/"
        },
        "id": "XMICMGMeCyCn",
        "outputId": "700ebaad-cb66-4a82-8a35-a3af3941c804"
      },
      "execution_count": 6,
      "outputs": [
        {
          "output_type": "execute_result",
          "data": {
            "text/plain": [
              "['/content/gdrive/MyDrive/stable_diffusion_weights/live_subjects/clcytzycz000008mk82wo05v3/2000',\n",
              " '/content/gdrive/MyDrive/stable_diffusion_weights/live_subjects/clcytzycz000008mk82wo05v3/3000',\n",
              " '/content/gdrive/MyDrive/stable_diffusion_weights/live_subjects/clcytzycz000008mk82wo05v3/4000',\n",
              " '/content/gdrive/MyDrive/stable_diffusion_weights/live_subjects/clcytzycz000008mk82wo05v3/5000']"
            ]
          },
          "metadata": {},
          "execution_count": 6
        }
      ]
    },
    {
      "cell_type": "code",
      "source": [
        "# OUTPUT_DIR = \"stable_diffusion_weights/ezk_rees3\" #@param {type:\"string\"}\n"
      ],
      "metadata": {
        "id": "EA5WN5J5zyNG"
      },
      "execution_count": 8,
      "outputs": []
    },
    {
      "cell_type": "code",
      "source": [
        "# # The directory to the full folder with weights\n",
        "# WEIGHTS_DIR = \"\" \n",
        "# if WEIGHTS_DIR == \"\":\n",
        "#     from natsort import natsorted\n",
        "#     from glob import glob\n",
        "#     import os\n",
        "#     WEIGHTS_DIR = natsorted(glob(OUTPUT_DIR + os.sep + \"*\"))[-1]\n",
        "# print(f\"[*] WEIGHTS_DIR={WEIGHTS_DIR}\")"
      ],
      "metadata": {
        "id": "F31B8aHBzD_d"
      },
      "execution_count": 9,
      "outputs": []
    },
    {
      "cell_type": "code",
      "source": [
        "print(directories)"
      ],
      "metadata": {
        "id": "DSDQ_ympD8CW",
        "colab": {
          "base_uri": "https://localhost:8080/"
        },
        "outputId": "aa9237d6-ae60-4d9f-a854-23178a805487"
      },
      "execution_count": 10,
      "outputs": [
        {
          "output_type": "stream",
          "name": "stdout",
          "text": [
            "['/content/gdrive/MyDrive/stable_diffusion_weights/live_subjects/clcytzycz000008mk82wo05v3/0', '/content/gdrive/MyDrive/stable_diffusion_weights/live_subjects/clcytzycz000008mk82wo05v3/2000', '/content/gdrive/MyDrive/stable_diffusion_weights/live_subjects/clcytzycz000008mk82wo05v3/3000', '/content/gdrive/MyDrive/stable_diffusion_weights/live_subjects/clcytzycz000008mk82wo05v3/4000', '/content/gdrive/MyDrive/stable_diffusion_weights/live_subjects/clcytzycz000008mk82wo05v3/5000', '/content/gdrive/MyDrive/stable_diffusion_weights/live_subjects/clcytzycz000008mk82wo05v3/6000']\n"
          ]
        }
      ]
    },
    {
      "cell_type": "code",
      "source": [
        "directories_to_convert"
      ],
      "metadata": {
        "colab": {
          "base_uri": "https://localhost:8080/"
        },
        "id": "Qkm78qfiOZRP",
        "outputId": "919571c1-8748-4bc6-81ba-c75c2641c016"
      },
      "execution_count": 8,
      "outputs": [
        {
          "output_type": "execute_result",
          "data": {
            "text/plain": [
              "['/content/gdrive/MyDrive/stable_diffusion_weights/live_subjects/clcytzycz000008mk82wo05v3/2000',\n",
              " '/content/gdrive/MyDrive/stable_diffusion_weights/live_subjects/clcytzycz000008mk82wo05v3/3000',\n",
              " '/content/gdrive/MyDrive/stable_diffusion_weights/live_subjects/clcytzycz000008mk82wo05v3/4000',\n",
              " '/content/gdrive/MyDrive/stable_diffusion_weights/live_subjects/clcytzycz000008mk82wo05v3/5000']"
            ]
          },
          "metadata": {},
          "execution_count": 8
        }
      ]
    },
    {
      "cell_type": "code",
      "source": [
        "\n",
        "\n",
        "'/'.join(directories_to_convert[0].split('/')[:-1]) + '/ckpt_models' + f'/{}'f"
      ],
      "metadata": {
        "colab": {
          "base_uri": "https://localhost:8080/",
          "height": 35
        },
        "id": "Toy2s2zlOU9a",
        "outputId": "a8f02fcb-9712-42ca-e7d1-7f809bb25828"
      },
      "execution_count": 12,
      "outputs": [
        {
          "output_type": "execute_result",
          "data": {
            "text/plain": [
              "'/content/gdrive/MyDrive/stable_diffusion_weights/live_subjects/clcytzycz000008mk82wo05v3'"
            ],
            "application/vnd.google.colaboratory.intrinsic+json": {
              "type": "string"
            }
          },
          "metadata": {},
          "execution_count": 12
        }
      ]
    },
    {
      "cell_type": "code",
      "execution_count": null,
      "metadata": {
        "id": "kT91wN4Hy5Uq"
      },
      "outputs": [],
      "source": [
        "for WEIGHTS_DIR in directories_to_convert:\n",
        "  #@markdown Run conversion.\n",
        "  # ckpt_path = WEIGHTS_DIR + \"/model.ckpt\"\n",
        "  model_name = f\"{WEIGHTS_DIR.split('/')[-2]}_{WEIGHTS_DIR.split('/')[-1]}.ckpt\"\n",
        "  folder = f\"{'/'.join(WEIGHTS_DIR.split('/')[:-1])}/ckpt_files/\"\n",
        "  \n",
        "  ckpt_path = os.path.join(folder, model_name)\n",
        "  # print(ckpt_path)\n",
        "\n",
        "  half_arg = \"\"\n",
        "  #@markdown  Whether to convert to fp16, takes half the space (2GB).\n",
        "  fp16 = True #@param {type: \"boolean\"}\n",
        "  if fp16:\n",
        "      half_arg = \"--half\"\n",
        "  !python convert_diffusers_to_original_stable_diffusion.py --model_path $WEIGHTS_DIR  --checkpoint_path $ckpt_path $half_arg\n",
        "  print(f\"[*] Converted ckpt saved at {ckpt_path}\")"
      ]
    },
    {
      "cell_type": "code",
      "source": [],
      "metadata": {
        "id": "N7lJfjMI2lVJ"
      },
      "execution_count": null,
      "outputs": []
    }
  ]
}